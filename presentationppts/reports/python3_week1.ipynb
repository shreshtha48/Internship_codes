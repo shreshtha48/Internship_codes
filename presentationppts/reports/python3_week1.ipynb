{
 "cells": [
  {
   "cell_type": "code",
   "execution_count": 1,
   "id": "82b5036e",
   "metadata": {},
   "outputs": [
    {
     "name": "stdout",
     "output_type": "stream",
     "text": [
      "Hello World, basically prints stuff\n"
     ]
    }
   ],
   "source": [
    "print(\"Hello World, basically prints stuff\")\n",
    "#python is a case sensitive langugage"
   ]
  },
  {
   "cell_type": "code",
   "execution_count": 2,
   "id": "1affa94c",
   "metadata": {},
   "outputs": [
    {
     "name": "stdout",
     "output_type": "stream",
     "text": [
      "Hello**True**7.7\n"
     ]
    }
   ],
   "source": [
    "#Datatypes in python\n",
    "#read the docs of print to know more about print\n",
    "print(\"Hello\",True,7.7,sep=\"**\")\n",
    "#this will print with the sep instead of the comma"
   ]
  },
  {
   "cell_type": "code",
   "execution_count": 3,
   "id": "76f09558",
   "metadata": {},
   "outputs": [
    {
     "name": "stdout",
     "output_type": "stream",
     "text": [
      "[1, 2, 3]\n",
      "(1, 2, 3)\n",
      "{1, 2, 3}\n"
     ]
    }
   ],
   "source": [
    "print([1,2,3])\n",
    "#tuple\n",
    "print((1,2,3))\n",
    "#sets\n",
    "print({1,2,3})"
   ]
  },
  {
   "cell_type": "code",
   "execution_count": 4,
   "id": "71a54aab",
   "metadata": {},
   "outputs": [
    {
     "data": {
      "text/plain": [
       "int"
      ]
     },
     "execution_count": 4,
     "metadata": {},
     "output_type": "execute_result"
    }
   ],
   "source": [
    "type(3)\n",
    "#will return the datatype of the data/variable"
   ]
  },
  {
   "cell_type": "code",
   "execution_count": 5,
   "id": "e545d59d",
   "metadata": {},
   "outputs": [],
   "source": [
    "#variables are basically containers which store the data e.g containers for future use\n",
    "#python detects the datatype automatically\n",
    "#since the interpreter of python is smart enough to detect the datatypes, we dont need to specify them on our own and hence they are known as dynamic typing\n",
    "#static typing is the one we get in c\n",
    "#dynamic binding\n",
    "a=\"shreshtha\"\n",
    "a=5\n",
    "#here in python a variable declared does not have a specific datatype and hence this concept is called dynamic binding\n",
    "#static binding is when in langugages such as c you declare variable at the statrt then it cannot store datatype of differe\\nt variables\n"
   ]
  },
  {
   "cell_type": "markdown",
   "id": "28eeedce",
   "metadata": {},
   "source": [
    "# Exercise 1\n"
   ]
  },
  {
   "cell_type": "code",
   "execution_count": 6,
   "id": "bc6cfd24",
   "metadata": {},
   "outputs": [
    {
     "name": "stdout",
     "output_type": "stream",
     "text": [
      "10\n"
     ]
    }
   ],
   "source": [
    "#adding two numbers in python\n",
    "a=4\n",
    "b=6\n",
    "c=a+b\n",
    "print(c)"
   ]
  },
  {
   "cell_type": "markdown",
   "id": "b0e4a273",
   "metadata": {},
   "source": [
    "# Keywords and Identifiers\n"
   ]
  },
  {
   "cell_type": "markdown",
   "id": "8dbb58e2",
   "metadata": {},
   "source": [
    "compilation is the process of converting human readable code into machine language code and is done by compiler or interpreter\n",
    "python is interpreted langugage which means that this process is done line by line\n",
    "keywords kind of tell compiler how to execute the program i.e there are certain words reserved by the compiler like print, if else etc. Python has around 32 keywords which we cannot use as variables. As a programmer if you give a name to something than that name is called as an identifier. E.g the name of your variables or the functino that you create are all called as identifiers\n",
    "Rules for identifier:\n",
    "You cannot start with digit\n",
    "In special character, you can only use underscore\n",
    "Identifiers cannot be keywords\n",
    "\n"
   ]
  },
  {
   "cell_type": "markdown",
   "id": "6aca8463",
   "metadata": {},
   "source": [
    "# typecasting"
   ]
  },
  {
   "cell_type": "code",
   "execution_count": null,
   "id": "e8b68d93",
   "metadata": {},
   "outputs": [],
   "source": [
    "#typecasting helps convert one datatype into the other\n",
    "int(4.66)\n",
    "#this will convert the following number from float to string"
   ]
  },
  {
   "cell_type": "markdown",
   "id": "9d13d1f5",
   "metadata": {},
   "source": [
    "# literals"
   ]
  },
  {
   "cell_type": "code",
   "execution_count": null,
   "id": "2b7b3ca0",
   "metadata": {},
   "outputs": [],
   "source": [
    "#the value we store inside the variables are called as literals\n"
   ]
  },
  {
   "cell_type": "markdown",
   "id": "83efba12",
   "metadata": {},
   "source": [
    "# Operators"
   ]
  },
  {
   "cell_type": "code",
   "execution_count": null,
   "id": "2c8a491d",
   "metadata": {},
   "outputs": [],
   "source": [
    "#operators are used to do stuff to the variables be it arithematic, logical, bitwise, comparison,relational,membership operators "
   ]
  },
  {
   "cell_type": "code",
   "execution_count": 12,
   "id": "b4fe9a43",
   "metadata": {},
   "outputs": [
    {
     "name": "stdout",
     "output_type": "stream",
     "text": [
      "Please enter the first variable2\n",
      "Please Enter the second variable3\n",
      "Please Enter the operation that you would like to perform with the variable'*'\n"
     ]
    }
   ],
   "source": [
    "var1= input(\"Please enter the first variable\")\n",
    "var2=input(\"Please Enter the second variable\")\n",
    "operation=input(\"Please Enter the operation that you would like to perform with the variable\")\n",
    "def calculator (var1, var2):\n",
    "     if (type(var1)and type(var2)==int):\n",
    "        var1,var2,operation=var1,var2,operation\n",
    "        if (operation != ['*' or '+' or '/' or '-' or '%']):\n",
    "            print(\"Enter a valid function\")\n",
    "        else:\n",
    "            if(operator== '+'):\n",
    "                varadd=var1+var2\n",
    "                return varadd\n",
    "            elif(operator == '-'):\n",
    "                varsub=var1-var2\n",
    "                return varsub\n",
    "            elif(operator== '*'):\n",
    "                return var1*var2\n",
    "            elif(operator == '/'):\n",
    "                return var1/var2\n",
    "            else:\n",
    "                return var1%var2\n",
    "            \n",
    "    "
   ]
  },
  {
   "cell_type": "markdown",
   "id": "589e24a2",
   "metadata": {},
   "source": [
    "arithematic is the usual plus minus addition etc operators. Relational operators is used when we are comparing something.Logical are and or and not operators. Bitwise operators work on bit valuses, we have bitwise or, xor, nit, right shift and left shift. Membership operators are in and not in. Assignment operators are a=a+1 and a%=2 etc etc\n"
   ]
  },
  {
   "cell_type": "markdown",
   "id": "3c5b41c3",
   "metadata": {},
   "source": [
    "#if else loops are used to handle branching in the program\n",
    "if conditon:\n",
    "    print(\"something\")\n",
    "else:\n",
    "    print(\"something\")\n",
    "#loops are used to solve repetitive tasks\n",
    "#in python you can use else with other loops and not just if else i.e when the loop has broken then you can implement the logic ofx\n",
    "\n",
    "\n"
   ]
  },
  {
   "cell_type": "code",
   "execution_count": null,
   "id": "8ba6808a",
   "metadata": {},
   "outputs": [],
   "source": [
    "#guessing game in python where we take a random number and then let the user guess the number. Depending on how close\n",
    "#the user got to the actual number, we let him get stuff\n",
    "#generating a random number\n",
    "import random\n",
    "random_num=random.randint(1,50)\n",
    "#let the user take the input\n",
    "user=int(input(\"Please Enter your number\"))\n",
    "if(user<random_num):\n",
    "    print(\"Guess a little higher\")\n",
    "elif(user>random_num):\n",
    "    print(\"Guess a little lower\")\n",
    "else:\n",
    "    print(\"you got it right\")\n",
    "    #the program only runs once. We can modify it while loop\n"
   ]
  },
  {
   "cell_type": "code",
   "execution_count": null,
   "id": "1b0c2afe",
   "metadata": {},
   "outputs": [],
   "source": [
    "#for loops in python are a little different than the loops of the other languages\n",
    "for i in range(1,11):\n",
    "    print(i)"
   ]
  },
  {
   "cell_type": "code",
   "execution_count": null,
   "id": "36a51d83",
   "metadata": {},
   "outputs": [],
   "source": [
    "#the range function here generates stuff between the range, unlike any other langugages, we dont need fancy conditions or increment operators here\n",
    "for i in range(10,0,-1):\n",
    "    print(i)"
   ]
  },
  {
   "cell_type": "code",
   "execution_count": null,
   "id": "1d04be73",
   "metadata": {},
   "outputs": [],
   "source": [
    "#using python you can iterate through a list, string, tuple etc i.e basically anything\n",
    "#exercise, the population of a twon was 10,000 at the start and has been increasing steadily at the range of 10% every year\n",
    "#find out the population at the end of 10 yers\n",
    "year=0\n",
    "i=10,000\n",
    "while y<=9:\n",
    "    i=i+i*1.01\n",
    "    print(i)"
   ]
  },
  {
   "cell_type": "code",
   "execution_count": null,
   "id": "babcefd7",
   "metadata": {},
   "outputs": [],
   "source": []
  }
 ],
 "metadata": {
  "kernelspec": {
   "display_name": "Python 3 (ipykernel)",
   "language": "python",
   "name": "python3"
  },
  "language_info": {
   "codemirror_mode": {
    "name": "ipython",
    "version": 3
   },
   "file_extension": ".py",
   "mimetype": "text/x-python",
   "name": "python",
   "nbconvert_exporter": "python",
   "pygments_lexer": "ipython3",
   "version": "3.10.6"
  }
 },
 "nbformat": 4,
 "nbformat_minor": 5
}
