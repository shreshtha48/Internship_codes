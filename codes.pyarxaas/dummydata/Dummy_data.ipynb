{
 "cells": [
  {
   "cell_type": "markdown",
   "id": "2691e781",
   "metadata": {},
   "source": [
    "# Creating a fake dataset in python for anonymization"
   ]
  },
  {
   "cell_type": "markdown",
   "id": "33d7531e",
   "metadata": {},
   "source": [
    "The following code genrates a fake dataset with the help of the faker library in python.\n",
    "It is often noted that analysis is only as good as the data and while anonymization of data, getting to work on raw and initial data is often an overkill. Hence, the data being generated here will be used to make scripts for the anonymization"
   ]
  },
  {
   "cell_type": "code",
   "execution_count": 59,
   "id": "5bd55511",
   "metadata": {},
   "outputs": [],
   "source": [
    "#this library lets you generate the fake data\n",
    "from faker import Faker\n",
    "import random"
   ]
  },
  {
   "cell_type": "code",
   "execution_count": 60,
   "id": "042cc1dd",
   "metadata": {},
   "outputs": [],
   "source": [
    "#importing the neccesary libraries for data visualization\n",
    "import pandas as pd\n",
    "import numpy as np"
   ]
  },
  {
   "cell_type": "code",
   "execution_count": 61,
   "id": "85cfea7b",
   "metadata": {},
   "outputs": [],
   "source": [
    "nr_of_customers = 1000\n",
    "\n",
    "fake = Faker('de_DE')\n"
   ]
  },
  {
   "cell_type": "markdown",
   "id": "b336a1c1",
   "metadata": {},
   "source": [
    "We are planning to generate a customer dataset here with the name of the customer, their age, their email ids, the amount they spent buying products from our firm and their zipcodes of the places that they are located in. I created a faker instance and specified the number of customers (which is thw number of rows: must be positive and real that we want in our dataset"
   ]
  },
  {
   "cell_type": "markdown",
   "id": "fef1a87b",
   "metadata": {},
   "source": [
    "The data being read here is the zipcodes that i scraped during webscraping for the city of the ahmedabad, the dataframe contains zipcodes, their corresponding areas and the city. Since we do not need so much info, i will only be selecting the zipcode"
   ]
  },
  {
   "cell_type": "code",
   "execution_count": 62,
   "id": "01cb86cf",
   "metadata": {},
   "outputs": [],
   "source": [
    "data=pd.read_csv(\"/home/shreshtha/Documents/zipcode.csv\",usecols=[0])\n",
    "zip=data['zipcode'].to_list()\n",
    "#creating a list that contains zipcodes"
   ]
  },
  {
   "cell_type": "code",
   "execution_count": 63,
   "id": "a7c9f3f9",
   "metadata": {},
   "outputs": [],
   "source": [
    "customers = []\n",
    "#initializing a list of customers and looping through them\n",
    "for customers_id in range(nr_of_customers):\n",
    "#create customer's name\n",
    "    name = fake.name()\n",
    "    # Create gender\n",
    "    gender = random.choice([\"Male\", \"Female\"])\n",
    "    # Create email \n",
    "    email = fake.ascii_email()\n",
    "    #create a zipcode\n",
    "    zipcode=random.choice(zip)\n",
    "    #create amount spent\n",
    "    amount_spent = fake.pyint( min_value=1, max_value=1000)\n",
    "    #create age\n",
    "    age=fake.pyint( min_value=1,max_value=100)\n",
    "    #appending all the columns together to make a dataframe\n",
    "    customers.append([name, gender, email, amount_spent,zipcode,age])"
   ]
  },
  {
   "cell_type": "code",
   "execution_count": 64,
   "id": "127b0183",
   "metadata": {},
   "outputs": [
    {
     "name": "stdout",
     "output_type": "stream",
     "text": [
      "<bound method NDFrame.head of                               Name  Gender                           Email  \\\n",
      "0              Ing. Sybille Trubin  Female     paertzeltotfried@lindau.com   \n",
      "1    Univ.Prof. Irene Briemer MBA.    Male           slobodan58@hotmail.de   \n",
      "2               Kata Hornich B.Sc.    Male  edeltrauttroest@googlemail.com   \n",
      "3           Hans-Jörg Sorgatz-Drub    Male          holzapfelirmi@yahoo.de   \n",
      "4               Arnfried Tintzmann  Female                  ahmet22@aol.de   \n",
      "..                             ...     ...                             ...   \n",
      "995    Univ.Prof. Giesela Bolzmann    Male              helen20@johann.net   \n",
      "996        Arnulf Graf-Wagenknecht  Female     karl-ernstoestrovsky@aol.de   \n",
      "997             Dr. Sybille Ehlert    Male                hellmut98@web.de   \n",
      "998                    Bianka Jähn  Female           wschottin@jaentsch.de   \n",
      "999                Concetta Etzold    Male              holm95@siering.com   \n",
      "\n",
      "     Amount_spent  zipcode  Age  \n",
      "0             683   382240   35  \n",
      "1             206   382145   68  \n",
      "2             569   382150   55  \n",
      "3             763   382145   44  \n",
      "4             443   382465   81  \n",
      "..            ...      ...  ...  \n",
      "995           967   382463   21  \n",
      "996           603   382145   89  \n",
      "997           245   382460   31  \n",
      "998           376   380021   39  \n",
      "999           396   382463   92  \n",
      "\n",
      "[1000 rows x 6 columns]>\n"
     ]
    }
   ],
   "source": [
    "customers_df = pd.DataFrame(customers, columns=['Name', 'Gender','Email', 'Amount_spent','zipcode','Age']) \n",
    "#making a dataframe and then printing it\n",
    "print(customers_df.head)"
   ]
  },
  {
   "cell_type": "code",
   "execution_count": 65,
   "id": "196ae2ef",
   "metadata": {},
   "outputs": [],
   "source": [
    "customers_df.to_csv(r'/home/shreshtha/Downloads/customer_data.csv')\n",
    "#saving the dataframe as csv for later use"
   ]
  }
 ],
 "metadata": {
  "kernelspec": {
   "display_name": "Python 3 (ipykernel)",
   "language": "python",
   "name": "python3"
  },
  "language_info": {
   "codemirror_mode": {
    "name": "ipython",
    "version": 3
   },
   "file_extension": ".py",
   "mimetype": "text/x-python",
   "name": "python",
   "nbconvert_exporter": "python",
   "pygments_lexer": "ipython3",
   "version": "3.10.6"
  }
 },
 "nbformat": 4,
 "nbformat_minor": 5
}
